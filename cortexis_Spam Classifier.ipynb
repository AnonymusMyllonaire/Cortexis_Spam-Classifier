{
 "cells": [
  {
   "cell_type": "markdown",
   "id": "ea20d84a",
   "metadata": {},
   "source": [
    "# 📩 Spam SMS Classifier (NLP with Scikit-learn)\n",
    "\n",
    "This project is a **Spam SMS Classifier** that uses **Natural Language Processing (NLP)** and **Machine Learning** to classify SMS messages as **Spam** or **Not Spam (Ham)**.\n",
    "\n",
    "---\n",
    "\n",
    "## 🚀 Features\n",
    "- Preprocess SMS text:\n",
    "  - Lowercasing\n",
    "  - Stopword & punctuation removal\n",
    "  - Tokenization\n",
    "- Convert text into **TF-IDF vectors**.\n",
    "- Train models like **Naive Bayes / Logistic Regression / SVM**.\n",
    "- Evaluate with **Accuracy, Precision, Reca**\n"
   ]
  },
  {
   "cell_type": "code",
   "execution_count": 1,
   "id": "ca880104",
   "metadata": {},
   "outputs": [
    {
     "name": "stdout",
     "output_type": "stream",
     "text": [
      "✅ Accuracy: 0.9\n",
      "\n",
      "📊 Classification Report:\n",
      "               precision    recall  f1-score   support\n",
      "\n",
      "           0       1.00      0.82      0.90        22\n",
      "           1       0.82      1.00      0.90        18\n",
      "\n",
      "    accuracy                           0.90        40\n",
      "   macro avg       0.91      0.91      0.90        40\n",
      "weighted avg       0.92      0.90      0.90        40\n",
      "\n"
     ]
    },
    {
     "data": {
      "image/png": "[encoded data removed]",
      "text/plain": [
       "<Figure size 640x480 with 2 Axes>"
      ]
     },
     "metadata": {},
     "output_type": "display_data"
    },
    {
     "name": "stdout",
     "output_type": "stream",
     "text": [
      "💾 Model and Vectorizer saved successfully!\n"
     ]
    }
   ],
   "source": [
    "# spam_classifier.py\n",
    "\n",
    "import pandas as pd\n",
    "import string\n",
    "import joblib\n",
    "from sklearn.model_selection import train_test_split\n",
    "from sklearn.feature_extraction.text import TfidfVectorizer\n",
    "from sklearn.linear_model import LogisticRegression\n",
    "from sklearn.metrics import classification_report, confusion_matrix, accuracy_score\n",
    "import seaborn as sns\n",
    "import matplotlib.pyplot as plt\n",
    "\n",
    "# 1. Load Dataset\n",
    "data = pd.read_csv(\"spam.csv\")  # must have v1=label, v2=message\n",
    "data = data[[\"v1\", \"v2\"]]\n",
    "data.columns = [\"label\", \"message\"]\n",
    "\n",
    "# Encode labels: ham=0, spam=1\n",
    "data[\"label\"] = data[\"label\"].map({\"ham\": 0, \"spam\": 1})\n",
    "\n",
    "# 2. Train-Test Split\n",
    "X_train, X_test, y_train, y_test = train_test_split(\n",
    "    data[\"message\"], data[\"label\"], test_size=0.2, random_state=42\n",
    ")\n",
    "\n",
    "# 3. TF-IDF Vectorizer (include $, emojis, words)\n",
    "vectorizer = TfidfVectorizer(\n",
    "    stop_words=\"english\",\n",
    "    lowercase=True,\n",
    "    token_pattern=r\"(?u)\\b\\w+\\b|[$💰🎉👉🎂]\"  # include $ and emojis\n",
    ")\n",
    "X_train_vec = vectorizer.fit_transform(X_train)\n",
    "X_test_vec = vectorizer.transform(X_test)\n",
    "\n",
    "# 4. Train Model\n",
    "model = LogisticRegression()\n",
    "model.fit(X_train_vec, y_train)\n",
    "\n",
    "# 5. Evaluate Model\n",
    "y_pred = model.predict(X_test_vec)\n",
    "print(\"✅ Accuracy:\", accuracy_score(y_test, y_pred))\n",
    "print(\"\\n📊 Classification Report:\\n\", classification_report(y_test, y_pred))\n",
    "\n",
    "# Confusion Matrix\n",
    "cm = confusion_matrix(y_test, y_pred)\n",
    "sns.heatmap(\n",
    "    cm, annot=True, fmt=\"d\", cmap=\"Blues\",\n",
    "    xticklabels=[\"Ham\", \"Spam\"], yticklabels=[\"Ham\", \"Spam\"]\n",
    ")\n",
    "plt.xlabel(\"Predicted\")\n",
    "plt.ylabel(\"Actual\")\n",
    "plt.title(\"Confusion Matrix\")\n",
    "plt.show()\n",
    "\n",
    "# 6. Save Model & Vectorizer\n",
    "joblib.dump(model, \"spam_model.pkl\")\n",
    "joblib.dump(vectorizer, \"vectorizer.pkl\")\n",
    "\n",
    "print(\"💾 Model and Vectorizer saved successfully!\")\n"
   ]
  },
  {
   "cell_type": "code",
   "execution_count": null,
   "id": "9c7d6947",
   "metadata": {},
   "outputs": [],
   "source": [
    "import joblib\n",
    "\n",
    "# Load the trained model and vectorizer\n",
    "model = joblib.load(\"spam_model.pkl\")\n",
    "vectorizer = joblib.load(\"vectorizer.pkl\")\n",
    "\n",
    "print(\"📩 Spam SMS Classifier\")\n",
    "print(\"Type 'quit' to exit.\\n\")\n",
    "\n",
    "while True:\n",
    "    user_input = input(\"Enter a message: \")\n",
    "    \n",
    "    if user_input.lower() in [\"quit\", \"exit\"]:\n",
    "        print(\"👋 Exiting... Goodbye!\")\n",
    "        break\n",
    "    \n",
    "    # Transform input and predict\n",
    "    transformed_input = vectorizer.transform([user_input])\n",
    "    prediction = model.predict(transformed_input)[0]\n",
    "    \n",
    "    if prediction == 1:\n",
    "        print(\"🚨SPAM Message\\n\")\n",
    "    else:\n",
    "        print(\"✅NOT SPAM Message\\n\")\n"
   ]
  }
 ],
 "metadata": {
  "kernelspec": {
   "display_name": "Python 3",
   "language": "python",
   "name": "python3"
  },
  "language_info": {
   "codemirror_mode": {
    "name": "ipython",
    "version": 3
   },
   "file_extension": ".py",
   "mimetype": "text/x-python",
   "name": "python",
   "nbconvert_exporter": "python",
   "pygments_lexer": "ipython3",
   "version": "3.13.5"
  }
 },
 "nbformat": 4,
 "nbformat_minor": 5
}
